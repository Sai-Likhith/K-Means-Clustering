{
  "nbformat": 4,
  "nbformat_minor": 0,
  "metadata": {
    "colab": {
      "provenance": []
    },
    "kernelspec": {
      "name": "python3",
      "display_name": "Python 3"
    },
    "language_info": {
      "name": "python"
    }
  },
  "cells": [
    {
      "cell_type": "markdown",
      "source": [
        "# Importing Required Libraries"
      ],
      "metadata": {
        "id": "_b1CITU0PUI4"
      }
    },
    {
      "cell_type": "code",
      "source": [
        "import pandas as pd\n",
        "\n",
        "from sklearn.cluster import KMeans\n",
        "\n",
        "import matplotlib.pyplot as plt\n",
        "\n",
        "import numpy as np"
      ],
      "metadata": {
        "id": "tFQYEiLgGI40"
      },
      "execution_count": 1,
      "outputs": []
    },
    {
      "cell_type": "markdown",
      "source": [
        "#Importing (Reading) Datasets"
      ],
      "metadata": {
        "id": "_AnkPHZE1ZP5"
      }
    },
    {
      "cell_type": "code",
      "source": [
        "data = pd.read_csv('/content/Amazon.com Clusturing Model.csv')\n",
        "print(data)"
      ],
      "metadata": {
        "colab": {
          "base_uri": "https://localhost:8080/"
        },
        "id": "paRbxqNOGIyE",
        "outputId": "32410b25-d514-4a2f-a153-b3783a1c0692"
      },
      "execution_count": 2,
      "outputs": [
        {
          "output_type": "stream",
          "name": "stdout",
          "text": [
            "     Cus_ID Sex  Age   Income  Rating\n",
            "0    301219   M   23   306555      44\n",
            "1    301220   F   26   306555      91\n",
            "2    301221   F   24   326992       7\n",
            "3    301222   M   28   326992      87\n",
            "4    301223   F   38   347429      45\n",
            "..      ...  ..  ...      ...     ...\n",
            "195  301414   F   42  2452440      89\n",
            "196  301415   F   54  2575062      32\n",
            "197  301416   M   39  2575062      83\n",
            "198  301417   M   39  2799869      21\n",
            "199  301418   M   36  2799869      93\n",
            "\n",
            "[200 rows x 5 columns]\n"
          ]
        }
      ]
    },
    {
      "cell_type": "code",
      "source": [
        "print(data.shape)\n",
        "data.head()"
      ],
      "metadata": {
        "id": "aOHV4TO5rPTQ",
        "colab": {
          "base_uri": "https://localhost:8080/",
          "height": 223
        },
        "outputId": "402bc95b-93c0-4471-a65d-4601e1f13f13"
      },
      "execution_count": 3,
      "outputs": [
        {
          "output_type": "stream",
          "name": "stdout",
          "text": [
            "(200, 5)\n"
          ]
        },
        {
          "output_type": "execute_result",
          "data": {
            "text/plain": [
              "   Cus_ID Sex  Age  Income  Rating\n",
              "0  301219   M   23  306555      44\n",
              "1  301220   F   26  306555      91\n",
              "2  301221   F   24  326992       7\n",
              "3  301222   M   28  326992      87\n",
              "4  301223   F   38  347429      45"
            ],
            "text/html": [
              "\n",
              "  <div id=\"df-f129bd9f-2ff0-4e80-80a8-6bdb9d6dfb1f\">\n",
              "    <div class=\"colab-df-container\">\n",
              "      <div>\n",
              "<style scoped>\n",
              "    .dataframe tbody tr th:only-of-type {\n",
              "        vertical-align: middle;\n",
              "    }\n",
              "\n",
              "    .dataframe tbody tr th {\n",
              "        vertical-align: top;\n",
              "    }\n",
              "\n",
              "    .dataframe thead th {\n",
              "        text-align: right;\n",
              "    }\n",
              "</style>\n",
              "<table border=\"1\" class=\"dataframe\">\n",
              "  <thead>\n",
              "    <tr style=\"text-align: right;\">\n",
              "      <th></th>\n",
              "      <th>Cus_ID</th>\n",
              "      <th>Sex</th>\n",
              "      <th>Age</th>\n",
              "      <th>Income</th>\n",
              "      <th>Rating</th>\n",
              "    </tr>\n",
              "  </thead>\n",
              "  <tbody>\n",
              "    <tr>\n",
              "      <th>0</th>\n",
              "      <td>301219</td>\n",
              "      <td>M</td>\n",
              "      <td>23</td>\n",
              "      <td>306555</td>\n",
              "      <td>44</td>\n",
              "    </tr>\n",
              "    <tr>\n",
              "      <th>1</th>\n",
              "      <td>301220</td>\n",
              "      <td>F</td>\n",
              "      <td>26</td>\n",
              "      <td>306555</td>\n",
              "      <td>91</td>\n",
              "    </tr>\n",
              "    <tr>\n",
              "      <th>2</th>\n",
              "      <td>301221</td>\n",
              "      <td>F</td>\n",
              "      <td>24</td>\n",
              "      <td>326992</td>\n",
              "      <td>7</td>\n",
              "    </tr>\n",
              "    <tr>\n",
              "      <th>3</th>\n",
              "      <td>301222</td>\n",
              "      <td>M</td>\n",
              "      <td>28</td>\n",
              "      <td>326992</td>\n",
              "      <td>87</td>\n",
              "    </tr>\n",
              "    <tr>\n",
              "      <th>4</th>\n",
              "      <td>301223</td>\n",
              "      <td>F</td>\n",
              "      <td>38</td>\n",
              "      <td>347429</td>\n",
              "      <td>45</td>\n",
              "    </tr>\n",
              "  </tbody>\n",
              "</table>\n",
              "</div>\n",
              "      <button class=\"colab-df-convert\" onclick=\"convertToInteractive('df-f129bd9f-2ff0-4e80-80a8-6bdb9d6dfb1f')\"\n",
              "              title=\"Convert this dataframe to an interactive table.\"\n",
              "              style=\"display:none;\">\n",
              "        \n",
              "  <svg xmlns=\"http://www.w3.org/2000/svg\" height=\"24px\"viewBox=\"0 0 24 24\"\n",
              "       width=\"24px\">\n",
              "    <path d=\"M0 0h24v24H0V0z\" fill=\"none\"/>\n",
              "    <path d=\"M18.56 5.44l.94 2.06.94-2.06 2.06-.94-2.06-.94-.94-2.06-.94 2.06-2.06.94zm-11 1L8.5 8.5l.94-2.06 2.06-.94-2.06-.94L8.5 2.5l-.94 2.06-2.06.94zm10 10l.94 2.06.94-2.06 2.06-.94-2.06-.94-.94-2.06-.94 2.06-2.06.94z\"/><path d=\"M17.41 7.96l-1.37-1.37c-.4-.4-.92-.59-1.43-.59-.52 0-1.04.2-1.43.59L10.3 9.45l-7.72 7.72c-.78.78-.78 2.05 0 2.83L4 21.41c.39.39.9.59 1.41.59.51 0 1.02-.2 1.41-.59l7.78-7.78 2.81-2.81c.8-.78.8-2.07 0-2.86zM5.41 20L4 18.59l7.72-7.72 1.47 1.35L5.41 20z\"/>\n",
              "  </svg>\n",
              "      </button>\n",
              "      \n",
              "  <style>\n",
              "    .colab-df-container {\n",
              "      display:flex;\n",
              "      flex-wrap:wrap;\n",
              "      gap: 12px;\n",
              "    }\n",
              "\n",
              "    .colab-df-convert {\n",
              "      background-color: #E8F0FE;\n",
              "      border: none;\n",
              "      border-radius: 50%;\n",
              "      cursor: pointer;\n",
              "      display: none;\n",
              "      fill: #1967D2;\n",
              "      height: 32px;\n",
              "      padding: 0 0 0 0;\n",
              "      width: 32px;\n",
              "    }\n",
              "\n",
              "    .colab-df-convert:hover {\n",
              "      background-color: #E2EBFA;\n",
              "      box-shadow: 0px 1px 2px rgba(60, 64, 67, 0.3), 0px 1px 3px 1px rgba(60, 64, 67, 0.15);\n",
              "      fill: #174EA6;\n",
              "    }\n",
              "\n",
              "    [theme=dark] .colab-df-convert {\n",
              "      background-color: #3B4455;\n",
              "      fill: #D2E3FC;\n",
              "    }\n",
              "\n",
              "    [theme=dark] .colab-df-convert:hover {\n",
              "      background-color: #434B5C;\n",
              "      box-shadow: 0px 1px 3px 1px rgba(0, 0, 0, 0.15);\n",
              "      filter: drop-shadow(0px 1px 2px rgba(0, 0, 0, 0.3));\n",
              "      fill: #FFFFFF;\n",
              "    }\n",
              "  </style>\n",
              "\n",
              "      <script>\n",
              "        const buttonEl =\n",
              "          document.querySelector('#df-f129bd9f-2ff0-4e80-80a8-6bdb9d6dfb1f button.colab-df-convert');\n",
              "        buttonEl.style.display =\n",
              "          google.colab.kernel.accessAllowed ? 'block' : 'none';\n",
              "\n",
              "        async function convertToInteractive(key) {\n",
              "          const element = document.querySelector('#df-f129bd9f-2ff0-4e80-80a8-6bdb9d6dfb1f');\n",
              "          const dataTable =\n",
              "            await google.colab.kernel.invokeFunction('convertToInteractive',\n",
              "                                                     [key], {});\n",
              "          if (!dataTable) return;\n",
              "\n",
              "          const docLinkHtml = 'Like what you see? Visit the ' +\n",
              "            '<a target=\"_blank\" href=https://colab.research.google.com/notebooks/data_table.ipynb>data table notebook</a>'\n",
              "            + ' to learn more about interactive tables.';\n",
              "          element.innerHTML = '';\n",
              "          dataTable['output_type'] = 'display_data';\n",
              "          await google.colab.output.renderOutput(dataTable, element);\n",
              "          const docLink = document.createElement('div');\n",
              "          docLink.innerHTML = docLinkHtml;\n",
              "          element.appendChild(docLink);\n",
              "        }\n",
              "      </script>\n",
              "    </div>\n",
              "  </div>\n",
              "  "
            ]
          },
          "metadata": {},
          "execution_count": 3
        }
      ]
    },
    {
      "cell_type": "markdown",
      "source": [
        "#Assigning independent Variable"
      ],
      "metadata": {
        "id": "elBiJC6UPslM"
      }
    },
    {
      "cell_type": "code",
      "source": [
        "x=data.iloc[:,[2,4]].values\n",
        "print(\"x: \\n\\n\",x)"
      ],
      "metadata": {
        "colab": {
          "base_uri": "https://localhost:8080/"
        },
        "id": "7PdfAfCWGIsd",
        "outputId": "a48ee33c-3a64-4d3a-981a-cbc8f817f23f"
      },
      "execution_count": 4,
      "outputs": [
        {
          "output_type": "stream",
          "name": "stdout",
          "text": [
            "x: \n",
            "\n",
            " [[ 23  44]\n",
            " [ 26  91]\n",
            " [ 24   7]\n",
            " [ 28  87]\n",
            " [ 38  45]\n",
            " [ 27  86]\n",
            " [ 42   7]\n",
            " [ 28 106]\n",
            " [ 77   4]\n",
            " [ 36  81]\n",
            " [ 81  16]\n",
            " [ 42 111]\n",
            " [ 70  17]\n",
            " [ 29  87]\n",
            " [ 45  15]\n",
            " [ 27  89]\n",
            " [ 42  40]\n",
            " [ 24  74]\n",
            " [ 63  33]\n",
            " [ 42 110]\n",
            " [ 42  40]\n",
            " [ 30  82]\n",
            " [ 56   6]\n",
            " [ 38  82]\n",
            " [ 65  16]\n",
            " [ 35  92]\n",
            " [ 54  36]\n",
            " [ 42  69]\n",
            " [ 48  35]\n",
            " [ 28  98]\n",
            " [ 72   5]\n",
            " [ 26  82]\n",
            " [ 64   5]\n",
            " [ 22 104]\n",
            " [ 59  16]\n",
            " [ 26  91]\n",
            " [ 51  20]\n",
            " [ 36  82]\n",
            " [ 44  30]\n",
            " [ 24  84]\n",
            " [ 78  40]\n",
            " [ 29 104]\n",
            " [ 58  41]\n",
            " [ 38  69]\n",
            " [ 59  32]\n",
            " [ 29  73]\n",
            " [ 60  62]\n",
            " [ 33  53]\n",
            " [ 35  48]\n",
            " [ 38  48]\n",
            " [ 59  59]\n",
            " [ 40  68]\n",
            " [ 38  61]\n",
            " [ 71  68]\n",
            " [ 60  51]\n",
            " [ 57  46]\n",
            " [ 62  56]\n",
            " [ 83  52]\n",
            " [ 33  58]\n",
            " [ 64  52]\n",
            " [ 84  63]\n",
            " [ 23  62]\n",
            " [ 81  59]\n",
            " [ 65  67]\n",
            " [ 76  58]\n",
            " [ 22  67]\n",
            " [ 52  56]\n",
            " [ 82  54]\n",
            " [ 23  67]\n",
            " [ 39  53]\n",
            " [ 84  62]\n",
            " [ 57  48]\n",
            " [ 72  55]\n",
            " [ 72  63]\n",
            " [ 71  53]\n",
            " [ 32  61]\n",
            " [ 54  60]\n",
            " [ 48  54]\n",
            " [ 28  59]\n",
            " [ 59  48]\n",
            " [ 69  58]\n",
            " [ 46  62]\n",
            " [ 81  46]\n",
            " [ 56  50]\n",
            " [ 26  64]\n",
            " [ 58  52]\n",
            " [ 66  65]\n",
            " [ 27  62]\n",
            " [ 41  68]\n",
            " [ 60  52]\n",
            " [ 82  62]\n",
            " [ 22  46]\n",
            " [ 58  55]\n",
            " [ 48  45]\n",
            " [ 39  48]\n",
            " [ 29  59]\n",
            " [ 57  53]\n",
            " [ 33  56]\n",
            " [ 58  48]\n",
            " [ 24  55]\n",
            " [ 28  46]\n",
            " [ 59  54]\n",
            " [ 81  67]\n",
            " [ 32  62]\n",
            " [ 59  63]\n",
            " [ 26  48]\n",
            " [ 80  56]\n",
            " [ 65  52]\n",
            " [ 82  49]\n",
            " [ 80  54]\n",
            " [ 78  59]\n",
            " [ 23  61]\n",
            " [ 46  48]\n",
            " [ 23  52]\n",
            " [ 22  54]\n",
            " [ 23  56]\n",
            " [ 76  49]\n",
            " [ 59  67]\n",
            " [ 62  49]\n",
            " [ 60  64]\n",
            " [ 33  63]\n",
            " [ 46  45]\n",
            " [ 48  65]\n",
            " [ 47 102]\n",
            " [ 28  33]\n",
            " [ 38  87]\n",
            " [ 52  40]\n",
            " [ 48 107]\n",
            " [ 71  13]\n",
            " [ 46  84]\n",
            " [ 57  11]\n",
            " [ 47  84]\n",
            " [ 30  39]\n",
            " [ 38  80]\n",
            " [ 24   6]\n",
            " [ 35  99]\n",
            " [ 53   8]\n",
            " [ 39  82]\n",
            " [ 23  12]\n",
            " [ 42  81]\n",
            " [ 69   6]\n",
            " [ 39 105]\n",
            " [ 34  45]\n",
            " [ 39  98]\n",
            " [ 30  14]\n",
            " [ 34 109]\n",
            " [ 58  41]\n",
            " [ 39  83]\n",
            " [ 41  25]\n",
            " [ 41 101]\n",
            " [ 52  20]\n",
            " [ 47  99]\n",
            " [ 53  23]\n",
            " [ 46  86]\n",
            " [ 57  18]\n",
            " [ 33 100]\n",
            " [ 45   2]\n",
            " [ 36  88]\n",
            " [ 41   2]\n",
            " [ 36  82]\n",
            " [ 68  40]\n",
            " [ 35  93]\n",
            " [ 23   6]\n",
            " [ 38 105]\n",
            " [ 60  30]\n",
            " [ 44  84]\n",
            " [ 51  23]\n",
            " [ 40 107]\n",
            " [ 44  31]\n",
            " [ 39  71]\n",
            " [ 48  15]\n",
            " [ 34  84]\n",
            " [ 44  12]\n",
            " [ 44 104]\n",
            " [ 63  15]\n",
            " [ 36  97]\n",
            " [ 70  17]\n",
            " [ 33  78]\n",
            " [ 71  16]\n",
            " [ 42 101]\n",
            " [ 45  36]\n",
            " [ 39  97]\n",
            " [ 56  17]\n",
            " [ 35  99]\n",
            " [ 50  44]\n",
            " [ 36 109]\n",
            " [ 65  27]\n",
            " [ 34  77]\n",
            " [ 50  20]\n",
            " [ 44  96]\n",
            " [ 41  26]\n",
            " [ 39  78]\n",
            " [ 40   9]\n",
            " [ 46 102]\n",
            " [ 57  18]\n",
            " [ 42  89]\n",
            " [ 54  32]\n",
            " [ 39  83]\n",
            " [ 39  21]\n",
            " [ 36  93]]\n"
          ]
        }
      ]
    },
    {
      "cell_type": "markdown",
      "source": [
        "# Number of Clusters via Elbow Method"
      ],
      "metadata": {
        "id": "JijfjxfXQFBZ"
      }
    },
    {
      "cell_type": "code",
      "execution_count": 5,
      "metadata": {
        "colab": {
          "base_uri": "https://localhost:8080/",
          "height": 839
        },
        "id": "-60ObYS4GAoW",
        "outputId": "01ddbb41-c9a7-45cc-ff11-0dfb360e6ade"
      },
      "outputs": [
        {
          "output_type": "stream",
          "name": "stderr",
          "text": [
            "/usr/local/lib/python3.10/dist-packages/sklearn/cluster/_kmeans.py:870: FutureWarning: The default value of `n_init` will change from 10 to 'auto' in 1.4. Set the value of `n_init` explicitly to suppress the warning\n",
            "  warnings.warn(\n",
            "/usr/local/lib/python3.10/dist-packages/sklearn/cluster/_kmeans.py:870: FutureWarning: The default value of `n_init` will change from 10 to 'auto' in 1.4. Set the value of `n_init` explicitly to suppress the warning\n",
            "  warnings.warn(\n",
            "/usr/local/lib/python3.10/dist-packages/sklearn/cluster/_kmeans.py:870: FutureWarning: The default value of `n_init` will change from 10 to 'auto' in 1.4. Set the value of `n_init` explicitly to suppress the warning\n",
            "  warnings.warn(\n",
            "/usr/local/lib/python3.10/dist-packages/sklearn/cluster/_kmeans.py:870: FutureWarning: The default value of `n_init` will change from 10 to 'auto' in 1.4. Set the value of `n_init` explicitly to suppress the warning\n",
            "  warnings.warn(\n",
            "/usr/local/lib/python3.10/dist-packages/sklearn/cluster/_kmeans.py:870: FutureWarning: The default value of `n_init` will change from 10 to 'auto' in 1.4. Set the value of `n_init` explicitly to suppress the warning\n",
            "  warnings.warn(\n",
            "/usr/local/lib/python3.10/dist-packages/sklearn/cluster/_kmeans.py:870: FutureWarning: The default value of `n_init` will change from 10 to 'auto' in 1.4. Set the value of `n_init` explicitly to suppress the warning\n",
            "  warnings.warn(\n",
            "/usr/local/lib/python3.10/dist-packages/sklearn/cluster/_kmeans.py:870: FutureWarning: The default value of `n_init` will change from 10 to 'auto' in 1.4. Set the value of `n_init` explicitly to suppress the warning\n",
            "  warnings.warn(\n",
            "/usr/local/lib/python3.10/dist-packages/sklearn/cluster/_kmeans.py:870: FutureWarning: The default value of `n_init` will change from 10 to 'auto' in 1.4. Set the value of `n_init` explicitly to suppress the warning\n",
            "  warnings.warn(\n",
            "/usr/local/lib/python3.10/dist-packages/sklearn/cluster/_kmeans.py:870: FutureWarning: The default value of `n_init` will change from 10 to 'auto' in 1.4. Set the value of `n_init` explicitly to suppress the warning\n",
            "  warnings.warn(\n",
            "/usr/local/lib/python3.10/dist-packages/sklearn/cluster/_kmeans.py:870: FutureWarning: The default value of `n_init` will change from 10 to 'auto' in 1.4. Set the value of `n_init` explicitly to suppress the warning\n",
            "  warnings.warn(\n"
          ]
        },
        {
          "output_type": "display_data",
          "data": {
            "text/plain": [
              "<Figure size 640x480 with 1 Axes>"
            ],
            "image/png": "[encoded data removed]"
          },
          "metadata": {}
        }
      ],
      "source": [
        "wcss=[]\n",
        "for i in range(1,11):\n",
        "  model=KMeans(n_clusters=i,init='k-means++',random_state=21)\n",
        "  model.fit(x)\n",
        "  wcss.append(model.inertia_)\n",
        "plt.plot(range(1,11),wcss)\n",
        "plt.title('WCSS via Elbow method')\n",
        "plt.xlabel('Number of clusters:')\n",
        "plt.ylabel('WCSS Value')\n",
        "plt.show()"
      ]
    },
    {
      "cell_type": "markdown",
      "source": [
        "# K-Means Clustering Training on Training set"
      ],
      "metadata": {
        "id": "bHsf4HllQLOP"
      }
    },
    {
      "cell_type": "code",
      "source": [
        "model = KMeans(n_clusters=4,init='k-means++',random_state=42)\n",
        "y_means=model.fit_predict(x)\n",
        "print(\"y_means:\\n\\n\",y_means)"
      ],
      "metadata": {
        "colab": {
          "base_uri": "https://localhost:8080/"
        },
        "id": "FtmqUR2zLgZf",
        "outputId": "171d7122-ce6d-4138-b251-33c79edd18dc"
      },
      "execution_count": 6,
      "outputs": [
        {
          "output_type": "stream",
          "name": "stdout",
          "text": [
            "y_means:\n",
            "\n",
            " [3 2 1 2 3 2 1 2 1 2 1 2 1 2 1 2 3 3 1 2 3 2 1 2 1 2 1 3 1 2 1 2 1 2 1 2 1\n",
            " 2 1 2 0 2 0 3 1 3 0 3 3 3 0 3 3 0 0 0 0 0 3 0 0 3 0 0 0 3 0 0 3 3 0 0 0 0\n",
            " 0 3 0 3 3 0 0 3 0 0 3 0 0 3 3 0 0 3 0 3 3 3 0 3 0 3 3 0 0 3 0 3 0 0 0 0 0\n",
            " 3 3 3 3 3 0 0 0 0 3 3 3 2 3 2 0 2 1 2 1 2 3 2 1 2 1 2 1 2 1 2 3 2 1 2 0 2\n",
            " 1 2 1 2 1 2 1 2 1 2 1 2 0 2 1 2 1 2 1 2 1 3 1 2 1 2 1 2 1 2 1 2 1 2 1 2 0\n",
            " 2 1 2 1 2 1 2 1 2 1 2 1 2 1 2]\n"
          ]
        },
        {
          "output_type": "stream",
          "name": "stderr",
          "text": [
            "/usr/local/lib/python3.10/dist-packages/sklearn/cluster/_kmeans.py:870: FutureWarning: The default value of `n_init` will change from 10 to 'auto' in 1.4. Set the value of `n_init` explicitly to suppress the warning\n",
            "  warnings.warn(\n"
          ]
        }
      ]
    },
    {
      "cell_type": "markdown",
      "source": [
        "# Scattering the Clusters"
      ],
      "metadata": {
        "id": "pHf7w8waQVWG"
      }
    },
    {
      "cell_type": "code",
      "source": [
        "plt.figure(figsize=(7,7))\n",
        "plt.scatter(x[y_means==0,0],x[y_means==0,1],s=100,c='magenta',label='cluster1')\n",
        "plt.scatter(x[y_means==1,0],x[y_means==1,1],s=100,c='blue',label='cluster2')\n",
        "plt.scatter(x[y_means==2,0],x[y_means==2,1],s=100,c='orange',label='cluster3')\n",
        "plt.scatter(x[y_means==3,0],x[y_means==3,1],s=100,c='cyan',label='cluster4')\n",
        "plt.scatter(model.cluster_centers_[:,0],model.cluster_centers_[:,1],s=200,c='black',label='centerids')\n",
        "plt.title('cluster of amazon users')\n",
        "plt.xlabel('age')\n",
        "plt.ylabel('purchase rating')\n",
        "plt.legend()\n",
        "plt.show()"
      ],
      "metadata": {
        "colab": {
          "base_uri": "https://localhost:8080/",
          "height": 641
        },
        "id": "P8I6Q7sJM6GU",
        "outputId": "6359b6c3-5407-458a-bbc2-120c5d614731"
      },
      "execution_count": 7,
      "outputs": [
        {
          "output_type": "display_data",
          "data": {
            "text/plain": [
              "<Figure size 700x700 with 1 Axes>"
            ],
            "image/png": "[encoded data removed]"
          },
          "metadata": {}
        }
      ]
    }
  ]
}